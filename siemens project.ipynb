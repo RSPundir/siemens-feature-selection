{
 "cells": [
  {
   "cell_type": "code",
   "execution_count": 1,
   "metadata": {},
   "outputs": [],
   "source": [
    "from datetime import datetime\n",
    "from datetime import timedelta\n",
    "import seaborn as sns\n",
    "import matplotlib.pyplot as plt\n",
    "%matplotlib inline\n",
    "\n",
    "import pandas as pd"
   ]
  },
  {
   "cell_type": "code",
   "execution_count": 2,
   "metadata": {},
   "outputs": [],
   "source": [
    "import warnings\n",
    "warnings.filterwarnings('ignore')"
   ]
  },
  {
   "cell_type": "code",
   "execution_count": 3,
   "metadata": {},
   "outputs": [],
   "source": [
    "data1=pd.read_csv('Problem2_FInalConversions',delimiter='\\t')"
   ]
  },
  {
   "cell_type": "code",
   "execution_count": 4,
   "metadata": {},
   "outputs": [
    {
     "data": {
      "text/html": [
       "<div>\n",
       "<style scoped>\n",
       "    .dataframe tbody tr th:only-of-type {\n",
       "        vertical-align: middle;\n",
       "    }\n",
       "\n",
       "    .dataframe tbody tr th {\n",
       "        vertical-align: top;\n",
       "    }\n",
       "\n",
       "    .dataframe thead th {\n",
       "        text-align: right;\n",
       "    }\n",
       "</style>\n",
       "<table border=\"1\" class=\"dataframe\">\n",
       "  <thead>\n",
       "    <tr style=\"text-align: right;\">\n",
       "      <th></th>\n",
       "      <th>2017-07-26 00:00:10.465</th>\n",
       "      <th>0</th>\n",
       "      <th>A293532</th>\n",
       "      <th>52.14</th>\n",
       "    </tr>\n",
       "  </thead>\n",
       "  <tbody>\n",
       "    <tr>\n",
       "      <th>0</th>\n",
       "      <td>2017-07-26 00:00:12.301</td>\n",
       "      <td>0</td>\n",
       "      <td>H209597</td>\n",
       "      <td>31.50</td>\n",
       "    </tr>\n",
       "    <tr>\n",
       "      <th>1</th>\n",
       "      <td>2017-07-26 00:00:12.388</td>\n",
       "      <td>0</td>\n",
       "      <td>H211370</td>\n",
       "      <td>30.48</td>\n",
       "    </tr>\n",
       "    <tr>\n",
       "      <th>2</th>\n",
       "      <td>2017-07-26 00:00:14.389</td>\n",
       "      <td>0</td>\n",
       "      <td>A282331</td>\n",
       "      <td>51.00</td>\n",
       "    </tr>\n",
       "    <tr>\n",
       "      <th>3</th>\n",
       "      <td>2017-07-26 00:00:16.837</td>\n",
       "      <td>0</td>\n",
       "      <td>H211410</td>\n",
       "      <td>16.74</td>\n",
       "    </tr>\n",
       "    <tr>\n",
       "      <th>4</th>\n",
       "      <td>2017-07-26 00:00:19.625</td>\n",
       "      <td>0</td>\n",
       "      <td>H211801</td>\n",
       "      <td>34.35</td>\n",
       "    </tr>\n",
       "  </tbody>\n",
       "</table>\n",
       "</div>"
      ],
      "text/plain": [
       "   2017-07-26 00:00:10.465  0  A293532  52.14\n",
       "0  2017-07-26 00:00:12.301  0  H209597  31.50\n",
       "1  2017-07-26 00:00:12.388  0  H211370  30.48\n",
       "2  2017-07-26 00:00:14.389  0  A282331  51.00\n",
       "3  2017-07-26 00:00:16.837  0  H211410  16.74\n",
       "4  2017-07-26 00:00:19.625  0  H211801  34.35"
      ]
     },
     "execution_count": 4,
     "metadata": {},
     "output_type": "execute_result"
    }
   ],
   "source": [
    "data1.head()"
   ]
  },
  {
   "cell_type": "code",
   "execution_count": 5,
   "metadata": {},
   "outputs": [],
   "source": [
    "data2=pd.read_csv('Problem2_Site_BrowingBehavior',delimiter='\\t',header=None)"
   ]
  },
  {
   "cell_type": "code",
   "execution_count": 6,
   "metadata": {},
   "outputs": [
    {
     "data": {
      "text/html": [
       "<div>\n",
       "<style scoped>\n",
       "    .dataframe tbody tr th:only-of-type {\n",
       "        vertical-align: middle;\n",
       "    }\n",
       "\n",
       "    .dataframe tbody tr th {\n",
       "        vertical-align: top;\n",
       "    }\n",
       "\n",
       "    .dataframe thead th {\n",
       "        text-align: right;\n",
       "    }\n",
       "</style>\n",
       "<table border=\"1\" class=\"dataframe\">\n",
       "  <thead>\n",
       "    <tr style=\"text-align: right;\">\n",
       "      <th></th>\n",
       "      <th>0</th>\n",
       "      <th>1</th>\n",
       "      <th>2</th>\n",
       "    </tr>\n",
       "  </thead>\n",
       "  <tbody>\n",
       "    <tr>\n",
       "      <th>0</th>\n",
       "      <td>2017-07-26 00:01:40.965</td>\n",
       "      <td>0</td>\n",
       "      <td>product</td>\n",
       "    </tr>\n",
       "    <tr>\n",
       "      <th>1</th>\n",
       "      <td>2017-07-26 00:03:18.448</td>\n",
       "      <td>0</td>\n",
       "      <td>product</td>\n",
       "    </tr>\n",
       "    <tr>\n",
       "      <th>2</th>\n",
       "      <td>2017-07-26 00:36:59.028</td>\n",
       "      <td>0</td>\n",
       "      <td>default</td>\n",
       "    </tr>\n",
       "    <tr>\n",
       "      <th>3</th>\n",
       "      <td>2017-07-26 00:41:17.273</td>\n",
       "      <td>0</td>\n",
       "      <td>product-listing-category</td>\n",
       "    </tr>\n",
       "    <tr>\n",
       "      <th>4</th>\n",
       "      <td>2017-07-26 00:45:39.197</td>\n",
       "      <td>0</td>\n",
       "      <td>content</td>\n",
       "    </tr>\n",
       "  </tbody>\n",
       "</table>\n",
       "</div>"
      ],
      "text/plain": [
       "                         0  1                         2\n",
       "0  2017-07-26 00:01:40.965  0                   product\n",
       "1  2017-07-26 00:03:18.448  0                   product\n",
       "2  2017-07-26 00:36:59.028  0                   default\n",
       "3  2017-07-26 00:41:17.273  0  product-listing-category\n",
       "4  2017-07-26 00:45:39.197  0                   content"
      ]
     },
     "execution_count": 6,
     "metadata": {},
     "output_type": "execute_result"
    }
   ],
   "source": [
    "data2.head()"
   ]
  },
  {
   "cell_type": "code",
   "execution_count": 7,
   "metadata": {},
   "outputs": [
    {
     "name": "stdout",
     "output_type": "stream",
     "text": [
      "<class 'pandas.core.frame.DataFrame'>\n",
      "RangeIndex: 79794 entries, 0 to 79793\n",
      "Data columns (total 4 columns):\n",
      " #   Column                   Non-Null Count  Dtype  \n",
      "---  ------                   --------------  -----  \n",
      " 0   2017-07-26 00:00:10.465  79794 non-null  object \n",
      " 1   0                        79794 non-null  int64  \n",
      " 2   A293532                  79794 non-null  object \n",
      " 3   52.14                    79794 non-null  float64\n",
      "dtypes: float64(1), int64(1), object(2)\n",
      "memory usage: 2.4+ MB\n"
     ]
    }
   ],
   "source": [
    "data1.info()"
   ]
  },
  {
   "cell_type": "code",
   "execution_count": 8,
   "metadata": {},
   "outputs": [
    {
     "name": "stdout",
     "output_type": "stream",
     "text": [
      "<class 'pandas.core.frame.DataFrame'>\n",
      "RangeIndex: 5535924 entries, 0 to 5535923\n",
      "Data columns (total 3 columns):\n",
      " #   Column  Dtype \n",
      "---  ------  ----- \n",
      " 0   0       object\n",
      " 1   1       int64 \n",
      " 2   2       object\n",
      "dtypes: int64(1), object(2)\n",
      "memory usage: 126.7+ MB\n"
     ]
    }
   ],
   "source": [
    "data2.info()"
   ]
  },
  {
   "cell_type": "code",
   "execution_count": 9,
   "metadata": {},
   "outputs": [],
   "source": [
    "data2.columns=['Timestamp','UserID','Website_section_vsited']"
   ]
  },
  {
   "cell_type": "code",
   "execution_count": 10,
   "metadata": {},
   "outputs": [
    {
     "data": {
      "text/html": [
       "<div>\n",
       "<style scoped>\n",
       "    .dataframe tbody tr th:only-of-type {\n",
       "        vertical-align: middle;\n",
       "    }\n",
       "\n",
       "    .dataframe tbody tr th {\n",
       "        vertical-align: top;\n",
       "    }\n",
       "\n",
       "    .dataframe thead th {\n",
       "        text-align: right;\n",
       "    }\n",
       "</style>\n",
       "<table border=\"1\" class=\"dataframe\">\n",
       "  <thead>\n",
       "    <tr style=\"text-align: right;\">\n",
       "      <th></th>\n",
       "      <th>Timestamp</th>\n",
       "      <th>UserID</th>\n",
       "      <th>Website_section_vsited</th>\n",
       "    </tr>\n",
       "  </thead>\n",
       "  <tbody>\n",
       "    <tr>\n",
       "      <th>0</th>\n",
       "      <td>2017-07-26 00:01:40.965</td>\n",
       "      <td>0</td>\n",
       "      <td>product</td>\n",
       "    </tr>\n",
       "    <tr>\n",
       "      <th>1</th>\n",
       "      <td>2017-07-26 00:03:18.448</td>\n",
       "      <td>0</td>\n",
       "      <td>product</td>\n",
       "    </tr>\n",
       "    <tr>\n",
       "      <th>2</th>\n",
       "      <td>2017-07-26 00:36:59.028</td>\n",
       "      <td>0</td>\n",
       "      <td>default</td>\n",
       "    </tr>\n",
       "    <tr>\n",
       "      <th>3</th>\n",
       "      <td>2017-07-26 00:41:17.273</td>\n",
       "      <td>0</td>\n",
       "      <td>product-listing-category</td>\n",
       "    </tr>\n",
       "    <tr>\n",
       "      <th>4</th>\n",
       "      <td>2017-07-26 00:45:39.197</td>\n",
       "      <td>0</td>\n",
       "      <td>content</td>\n",
       "    </tr>\n",
       "  </tbody>\n",
       "</table>\n",
       "</div>"
      ],
      "text/plain": [
       "                 Timestamp  UserID    Website_section_vsited\n",
       "0  2017-07-26 00:01:40.965       0                   product\n",
       "1  2017-07-26 00:03:18.448       0                   product\n",
       "2  2017-07-26 00:36:59.028       0                   default\n",
       "3  2017-07-26 00:41:17.273       0  product-listing-category\n",
       "4  2017-07-26 00:45:39.197       0                   content"
      ]
     },
     "execution_count": 10,
     "metadata": {},
     "output_type": "execute_result"
    }
   ],
   "source": [
    "data2.head()"
   ]
  },
  {
   "cell_type": "code",
   "execution_count": 11,
   "metadata": {},
   "outputs": [
    {
     "data": {
      "text/plain": [
       "(array([ 0,  1,  2,  3,  4,  5,  6,  7,  8,  9, 10, 11, 12, 13, 14, 15, 16]),\n",
       " [Text(0, 0, 'product'),\n",
       "  Text(1, 0, 'default'),\n",
       "  Text(2, 0, 'product-listing-category'),\n",
       "  Text(3, 0, 'content'),\n",
       "  Text(4, 0, 'home'),\n",
       "  Text(5, 0, 'cart'),\n",
       "  Text(6, 0, 'product-listing-search'),\n",
       "  Text(7, 0, 'iroa'),\n",
       "  Text(8, 0, 'shoplive'),\n",
       "  Text(9, 0, 'productNotFound'),\n",
       "  Text(10, 0, 'product-listing-custom'),\n",
       "  Text(11, 0, 'signupcomplete'),\n",
       "  Text(12, 0, 'mys'),\n",
       "  Text(13, 0, 'error'),\n",
       "  Text(14, 0, 'lorigreiner'),\n",
       "  Text(15, 0, 'wishlist'),\n",
       "  Text(16, 0, 'category')])"
      ]
     },
     "execution_count": 11,
     "metadata": {},
     "output_type": "execute_result"
    },
    {
     "data": {
      "image/png": "[encoded data removed]",
      "text/plain": [
       "<Figure size 1080x720 with 1 Axes>"
      ]
     },
     "metadata": {
      "needs_background": "light"
     },
     "output_type": "display_data"
    }
   ],
   "source": [
    "plt.figure(figsize=(15,10))\n",
    "sns.countplot(data2['Website_section_vsited'])\n",
    "plt.xticks(rotation=90)"
   ]
  },
  {
   "cell_type": "code",
   "execution_count": 12,
   "metadata": {},
   "outputs": [
    {
     "data": {
      "text/html": [
       "<div>\n",
       "<style scoped>\n",
       "    .dataframe tbody tr th:only-of-type {\n",
       "        vertical-align: middle;\n",
       "    }\n",
       "\n",
       "    .dataframe tbody tr th {\n",
       "        vertical-align: top;\n",
       "    }\n",
       "\n",
       "    .dataframe thead th {\n",
       "        text-align: right;\n",
       "    }\n",
       "</style>\n",
       "<table border=\"1\" class=\"dataframe\">\n",
       "  <thead>\n",
       "    <tr style=\"text-align: right;\">\n",
       "      <th></th>\n",
       "      <th>UserID</th>\n",
       "      <th>No_of_times_visited</th>\n",
       "    </tr>\n",
       "  </thead>\n",
       "  <tbody>\n",
       "    <tr>\n",
       "      <th>0</th>\n",
       "      <td>0</td>\n",
       "      <td>1407879</td>\n",
       "    </tr>\n",
       "    <tr>\n",
       "      <th>101129</th>\n",
       "      <td>544439661706349</td>\n",
       "      <td>10</td>\n",
       "    </tr>\n",
       "    <tr>\n",
       "      <th>101130</th>\n",
       "      <td>634394594974068</td>\n",
       "      <td>19</td>\n",
       "    </tr>\n",
       "    <tr>\n",
       "      <th>101134</th>\n",
       "      <td>887103105578626</td>\n",
       "      <td>10</td>\n",
       "    </tr>\n",
       "    <tr>\n",
       "      <th>101136</th>\n",
       "      <td>962713767308725</td>\n",
       "      <td>18</td>\n",
       "    </tr>\n",
       "  </tbody>\n",
       "</table>\n",
       "</div>"
      ],
      "text/plain": [
       "                 UserID  No_of_times_visited\n",
       "0                     0              1407879\n",
       "101129  544439661706349                   10\n",
       "101130  634394594974068                   19\n",
       "101134  887103105578626                   10\n",
       "101136  962713767308725                   18"
      ]
     },
     "execution_count": 12,
     "metadata": {},
     "output_type": "execute_result"
    }
   ],
   "source": [
    "# to check how may time a user visited\n",
    "login_count=data2.groupby('UserID').Website_section_vsited.agg(['count']).reindex(data2.UserID).reset_index()\n",
    "login_count.columns=['UserID','No_of_times_visited']\n",
    "login_count.drop_duplicates(inplace=True)\n",
    "login_count.head()"
   ]
  },
  {
   "cell_type": "code",
   "execution_count": 13,
   "metadata": {},
   "outputs": [],
   "source": [
    "data1.columns=['Timestamp','UserID','products_purchased','cart_value']"
   ]
  },
  {
   "cell_type": "code",
   "execution_count": 14,
   "metadata": {},
   "outputs": [
    {
     "data": {
      "text/html": [
       "<div>\n",
       "<style scoped>\n",
       "    .dataframe tbody tr th:only-of-type {\n",
       "        vertical-align: middle;\n",
       "    }\n",
       "\n",
       "    .dataframe tbody tr th {\n",
       "        vertical-align: top;\n",
       "    }\n",
       "\n",
       "    .dataframe thead th {\n",
       "        text-align: right;\n",
       "    }\n",
       "</style>\n",
       "<table border=\"1\" class=\"dataframe\">\n",
       "  <thead>\n",
       "    <tr style=\"text-align: right;\">\n",
       "      <th></th>\n",
       "      <th>Timestamp</th>\n",
       "      <th>UserID</th>\n",
       "      <th>products_purchased</th>\n",
       "      <th>cart_value</th>\n",
       "    </tr>\n",
       "  </thead>\n",
       "  <tbody>\n",
       "    <tr>\n",
       "      <th>0</th>\n",
       "      <td>2017-07-26 00:00:12.301</td>\n",
       "      <td>0</td>\n",
       "      <td>H209597</td>\n",
       "      <td>31.50</td>\n",
       "    </tr>\n",
       "    <tr>\n",
       "      <th>1</th>\n",
       "      <td>2017-07-26 00:00:12.388</td>\n",
       "      <td>0</td>\n",
       "      <td>H211370</td>\n",
       "      <td>30.48</td>\n",
       "    </tr>\n",
       "    <tr>\n",
       "      <th>2</th>\n",
       "      <td>2017-07-26 00:00:14.389</td>\n",
       "      <td>0</td>\n",
       "      <td>A282331</td>\n",
       "      <td>51.00</td>\n",
       "    </tr>\n",
       "    <tr>\n",
       "      <th>3</th>\n",
       "      <td>2017-07-26 00:00:16.837</td>\n",
       "      <td>0</td>\n",
       "      <td>H211410</td>\n",
       "      <td>16.74</td>\n",
       "    </tr>\n",
       "    <tr>\n",
       "      <th>4</th>\n",
       "      <td>2017-07-26 00:00:19.625</td>\n",
       "      <td>0</td>\n",
       "      <td>H211801</td>\n",
       "      <td>34.35</td>\n",
       "    </tr>\n",
       "  </tbody>\n",
       "</table>\n",
       "</div>"
      ],
      "text/plain": [
       "                 Timestamp  UserID products_purchased  cart_value\n",
       "0  2017-07-26 00:00:12.301       0            H209597       31.50\n",
       "1  2017-07-26 00:00:12.388       0            H211370       30.48\n",
       "2  2017-07-26 00:00:14.389       0            A282331       51.00\n",
       "3  2017-07-26 00:00:16.837       0            H211410       16.74\n",
       "4  2017-07-26 00:00:19.625       0            H211801       34.35"
      ]
     },
     "execution_count": 14,
     "metadata": {},
     "output_type": "execute_result"
    }
   ],
   "source": [
    "data1.head()"
   ]
  },
  {
   "cell_type": "code",
   "execution_count": 15,
   "metadata": {},
   "outputs": [],
   "source": [
    "#plt.figure(figsize=(15,10))\n",
    "#sns.countplot(data1['products_purchased'])\n",
    "#plt.xticks(rotation=90)"
   ]
  },
  {
   "cell_type": "code",
   "execution_count": 16,
   "metadata": {},
   "outputs": [
    {
     "data": {
      "text/html": [
       "<div>\n",
       "<style scoped>\n",
       "    .dataframe tbody tr th:only-of-type {\n",
       "        vertical-align: middle;\n",
       "    }\n",
       "\n",
       "    .dataframe tbody tr th {\n",
       "        vertical-align: top;\n",
       "    }\n",
       "\n",
       "    .dataframe thead th {\n",
       "        text-align: right;\n",
       "    }\n",
       "</style>\n",
       "<table border=\"1\" class=\"dataframe\">\n",
       "  <thead>\n",
       "    <tr style=\"text-align: right;\">\n",
       "      <th></th>\n",
       "      <th>UserID</th>\n",
       "      <th>cart_total_value</th>\n",
       "    </tr>\n",
       "  </thead>\n",
       "  <tbody>\n",
       "    <tr>\n",
       "      <th>0</th>\n",
       "      <td>0</td>\n",
       "      <td>1375049.52</td>\n",
       "    </tr>\n",
       "    <tr>\n",
       "      <th>547</th>\n",
       "      <td>5942997097932061</td>\n",
       "      <td>157.95</td>\n",
       "    </tr>\n",
       "    <tr>\n",
       "      <th>548</th>\n",
       "      <td>23951842225160889</td>\n",
       "      <td>60.96</td>\n",
       "    </tr>\n",
       "    <tr>\n",
       "      <th>550</th>\n",
       "      <td>30833658052409950</td>\n",
       "      <td>216.12</td>\n",
       "    </tr>\n",
       "    <tr>\n",
       "      <th>551</th>\n",
       "      <td>33873861847792934</td>\n",
       "      <td>53.24</td>\n",
       "    </tr>\n",
       "  </tbody>\n",
       "</table>\n",
       "</div>"
      ],
      "text/plain": [
       "                UserID  cart_total_value\n",
       "0                    0        1375049.52\n",
       "547   5942997097932061            157.95\n",
       "548  23951842225160889             60.96\n",
       "550  30833658052409950            216.12\n",
       "551  33873861847792934             53.24"
      ]
     },
     "execution_count": 16,
     "metadata": {},
     "output_type": "execute_result"
    }
   ],
   "source": [
    "value_sum=data1.groupby('UserID').cart_value.agg(['sum']).reindex(data1.UserID).reset_index()\n",
    "value_sum.columns=['UserID','cart_total_value']\n",
    "value_sum.drop_duplicates(inplace=True)\n",
    "value_sum.head()"
   ]
  },
  {
   "cell_type": "code",
   "execution_count": 17,
   "metadata": {},
   "outputs": [],
   "source": [
    "df=pd.merge(data1,data2,on=['UserID'],how='inner',left_index=True,right_index=True)\n",
    "\n",
    "# df=pd.merge(data2.reset_index())"
   ]
  },
  {
   "cell_type": "code",
   "execution_count": 18,
   "metadata": {},
   "outputs": [
    {
     "data": {
      "text/html": [
       "<div>\n",
       "<style scoped>\n",
       "    .dataframe tbody tr th:only-of-type {\n",
       "        vertical-align: middle;\n",
       "    }\n",
       "\n",
       "    .dataframe tbody tr th {\n",
       "        vertical-align: top;\n",
       "    }\n",
       "\n",
       "    .dataframe thead th {\n",
       "        text-align: right;\n",
       "    }\n",
       "</style>\n",
       "<table border=\"1\" class=\"dataframe\">\n",
       "  <thead>\n",
       "    <tr style=\"text-align: right;\">\n",
       "      <th></th>\n",
       "      <th>Timestamp_x</th>\n",
       "      <th>UserID</th>\n",
       "      <th>products_purchased</th>\n",
       "      <th>cart_value</th>\n",
       "      <th>Timestamp_y</th>\n",
       "      <th>Website_section_vsited</th>\n",
       "    </tr>\n",
       "  </thead>\n",
       "  <tbody>\n",
       "    <tr>\n",
       "      <th>0</th>\n",
       "      <td>2017-07-26 00:00:12.301</td>\n",
       "      <td>0</td>\n",
       "      <td>H209597</td>\n",
       "      <td>31.50</td>\n",
       "      <td>2017-07-26 00:01:40.965</td>\n",
       "      <td>product</td>\n",
       "    </tr>\n",
       "    <tr>\n",
       "      <th>1</th>\n",
       "      <td>2017-07-26 00:00:12.388</td>\n",
       "      <td>0</td>\n",
       "      <td>H211370</td>\n",
       "      <td>30.48</td>\n",
       "      <td>2017-07-26 00:03:18.448</td>\n",
       "      <td>product</td>\n",
       "    </tr>\n",
       "    <tr>\n",
       "      <th>2</th>\n",
       "      <td>2017-07-26 00:00:14.389</td>\n",
       "      <td>0</td>\n",
       "      <td>A282331</td>\n",
       "      <td>51.00</td>\n",
       "      <td>2017-07-26 00:36:59.028</td>\n",
       "      <td>default</td>\n",
       "    </tr>\n",
       "    <tr>\n",
       "      <th>3</th>\n",
       "      <td>2017-07-26 00:00:16.837</td>\n",
       "      <td>0</td>\n",
       "      <td>H211410</td>\n",
       "      <td>16.74</td>\n",
       "      <td>2017-07-26 00:41:17.273</td>\n",
       "      <td>product-listing-category</td>\n",
       "    </tr>\n",
       "    <tr>\n",
       "      <th>4</th>\n",
       "      <td>2017-07-26 00:00:19.625</td>\n",
       "      <td>0</td>\n",
       "      <td>H211801</td>\n",
       "      <td>34.35</td>\n",
       "      <td>2017-07-26 00:45:39.197</td>\n",
       "      <td>content</td>\n",
       "    </tr>\n",
       "  </tbody>\n",
       "</table>\n",
       "</div>"
      ],
      "text/plain": [
       "               Timestamp_x  UserID products_purchased  cart_value  \\\n",
       "0  2017-07-26 00:00:12.301       0            H209597       31.50   \n",
       "1  2017-07-26 00:00:12.388       0            H211370       30.48   \n",
       "2  2017-07-26 00:00:14.389       0            A282331       51.00   \n",
       "3  2017-07-26 00:00:16.837       0            H211410       16.74   \n",
       "4  2017-07-26 00:00:19.625       0            H211801       34.35   \n",
       "\n",
       "               Timestamp_y    Website_section_vsited  \n",
       "0  2017-07-26 00:01:40.965                   product  \n",
       "1  2017-07-26 00:03:18.448                   product  \n",
       "2  2017-07-26 00:36:59.028                   default  \n",
       "3  2017-07-26 00:41:17.273  product-listing-category  \n",
       "4  2017-07-26 00:45:39.197                   content  "
      ]
     },
     "execution_count": 18,
     "metadata": {},
     "output_type": "execute_result"
    }
   ],
   "source": [
    "df.head()"
   ]
  },
  {
   "cell_type": "code",
   "execution_count": 19,
   "metadata": {},
   "outputs": [],
   "source": [
    "df['Timestamp_x']=df['Timestamp_x'].astype(str)\n",
    "df['Timestamp_y']=df['Timestamp_y'].astype(str)\n",
    "\n",
    "\n",
    "df['Timestamp_x']=df['Timestamp_x'].str.split('.',expand=True)\n",
    "df['Timestamp_y']=df['Timestamp_y'].str.split('.',expand=True)\n"
   ]
  },
  {
   "cell_type": "code",
   "execution_count": 20,
   "metadata": {},
   "outputs": [
    {
     "data": {
      "text/html": [
       "<div>\n",
       "<style scoped>\n",
       "    .dataframe tbody tr th:only-of-type {\n",
       "        vertical-align: middle;\n",
       "    }\n",
       "\n",
       "    .dataframe tbody tr th {\n",
       "        vertical-align: top;\n",
       "    }\n",
       "\n",
       "    .dataframe thead th {\n",
       "        text-align: right;\n",
       "    }\n",
       "</style>\n",
       "<table border=\"1\" class=\"dataframe\">\n",
       "  <thead>\n",
       "    <tr style=\"text-align: right;\">\n",
       "      <th></th>\n",
       "      <th>Timestamp_x</th>\n",
       "      <th>UserID</th>\n",
       "      <th>products_purchased</th>\n",
       "      <th>cart_value</th>\n",
       "      <th>Timestamp_y</th>\n",
       "      <th>Website_section_vsited</th>\n",
       "    </tr>\n",
       "  </thead>\n",
       "  <tbody>\n",
       "    <tr>\n",
       "      <th>0</th>\n",
       "      <td>2017-07-26 00:00:12</td>\n",
       "      <td>0</td>\n",
       "      <td>H209597</td>\n",
       "      <td>31.50</td>\n",
       "      <td>2017-07-26 00:01:40</td>\n",
       "      <td>product</td>\n",
       "    </tr>\n",
       "    <tr>\n",
       "      <th>1</th>\n",
       "      <td>2017-07-26 00:00:12</td>\n",
       "      <td>0</td>\n",
       "      <td>H211370</td>\n",
       "      <td>30.48</td>\n",
       "      <td>2017-07-26 00:03:18</td>\n",
       "      <td>product</td>\n",
       "    </tr>\n",
       "    <tr>\n",
       "      <th>2</th>\n",
       "      <td>2017-07-26 00:00:14</td>\n",
       "      <td>0</td>\n",
       "      <td>A282331</td>\n",
       "      <td>51.00</td>\n",
       "      <td>2017-07-26 00:36:59</td>\n",
       "      <td>default</td>\n",
       "    </tr>\n",
       "    <tr>\n",
       "      <th>3</th>\n",
       "      <td>2017-07-26 00:00:16</td>\n",
       "      <td>0</td>\n",
       "      <td>H211410</td>\n",
       "      <td>16.74</td>\n",
       "      <td>2017-07-26 00:41:17</td>\n",
       "      <td>product-listing-category</td>\n",
       "    </tr>\n",
       "    <tr>\n",
       "      <th>4</th>\n",
       "      <td>2017-07-26 00:00:19</td>\n",
       "      <td>0</td>\n",
       "      <td>H211801</td>\n",
       "      <td>34.35</td>\n",
       "      <td>2017-07-26 00:45:39</td>\n",
       "      <td>content</td>\n",
       "    </tr>\n",
       "  </tbody>\n",
       "</table>\n",
       "</div>"
      ],
      "text/plain": [
       "           Timestamp_x  UserID products_purchased  cart_value  \\\n",
       "0  2017-07-26 00:00:12       0            H209597       31.50   \n",
       "1  2017-07-26 00:00:12       0            H211370       30.48   \n",
       "2  2017-07-26 00:00:14       0            A282331       51.00   \n",
       "3  2017-07-26 00:00:16       0            H211410       16.74   \n",
       "4  2017-07-26 00:00:19       0            H211801       34.35   \n",
       "\n",
       "           Timestamp_y    Website_section_vsited  \n",
       "0  2017-07-26 00:01:40                   product  \n",
       "1  2017-07-26 00:03:18                   product  \n",
       "2  2017-07-26 00:36:59                   default  \n",
       "3  2017-07-26 00:41:17  product-listing-category  \n",
       "4  2017-07-26 00:45:39                   content  "
      ]
     },
     "execution_count": 20,
     "metadata": {},
     "output_type": "execute_result"
    }
   ],
   "source": [
    "df.head()"
   ]
  },
  {
   "cell_type": "code",
   "execution_count": 21,
   "metadata": {},
   "outputs": [],
   "source": [
    "\n",
    "df['date_time_x']=pd.to_datetime(df['Timestamp_x'])\n",
    "df['date_time_y']=pd.to_datetime(df['Timestamp_y'])\n",
    "\n",
    "def Time_conversion(df):\n",
    "    time_delta=df['date_time_y']-df['date_time_x']\n",
    "    total_seconds=time_delta.total_seconds()\n",
    "    minutes=total_seconds/60\n",
    "    return abs(minutes)"
   ]
  },
  {
   "cell_type": "code",
   "execution_count": 22,
   "metadata": {},
   "outputs": [
    {
     "data": {
      "text/html": [
       "<div>\n",
       "<style scoped>\n",
       "    .dataframe tbody tr th:only-of-type {\n",
       "        vertical-align: middle;\n",
       "    }\n",
       "\n",
       "    .dataframe tbody tr th {\n",
       "        vertical-align: top;\n",
       "    }\n",
       "\n",
       "    .dataframe thead th {\n",
       "        text-align: right;\n",
       "    }\n",
       "</style>\n",
       "<table border=\"1\" class=\"dataframe\">\n",
       "  <thead>\n",
       "    <tr style=\"text-align: right;\">\n",
       "      <th></th>\n",
       "      <th>UserID</th>\n",
       "      <th>products_purchased</th>\n",
       "      <th>cart_value</th>\n",
       "      <th>Website_section_vsited</th>\n",
       "      <th>Time_spent_minutes_day</th>\n",
       "    </tr>\n",
       "  </thead>\n",
       "  <tbody>\n",
       "    <tr>\n",
       "      <th>0</th>\n",
       "      <td>0</td>\n",
       "      <td>H209597</td>\n",
       "      <td>31.50</td>\n",
       "      <td>product</td>\n",
       "      <td>1.466667</td>\n",
       "    </tr>\n",
       "    <tr>\n",
       "      <th>1</th>\n",
       "      <td>0</td>\n",
       "      <td>H211370</td>\n",
       "      <td>30.48</td>\n",
       "      <td>product</td>\n",
       "      <td>3.100000</td>\n",
       "    </tr>\n",
       "    <tr>\n",
       "      <th>2</th>\n",
       "      <td>0</td>\n",
       "      <td>A282331</td>\n",
       "      <td>51.00</td>\n",
       "      <td>default</td>\n",
       "      <td>36.750000</td>\n",
       "    </tr>\n",
       "    <tr>\n",
       "      <th>3</th>\n",
       "      <td>0</td>\n",
       "      <td>H211410</td>\n",
       "      <td>16.74</td>\n",
       "      <td>product-listing-category</td>\n",
       "      <td>41.016667</td>\n",
       "    </tr>\n",
       "    <tr>\n",
       "      <th>4</th>\n",
       "      <td>0</td>\n",
       "      <td>H211801</td>\n",
       "      <td>34.35</td>\n",
       "      <td>content</td>\n",
       "      <td>45.333333</td>\n",
       "    </tr>\n",
       "  </tbody>\n",
       "</table>\n",
       "</div>"
      ],
      "text/plain": [
       "   UserID products_purchased  cart_value    Website_section_vsited  \\\n",
       "0       0            H209597       31.50                   product   \n",
       "1       0            H211370       30.48                   product   \n",
       "2       0            A282331       51.00                   default   \n",
       "3       0            H211410       16.74  product-listing-category   \n",
       "4       0            H211801       34.35                   content   \n",
       "\n",
       "   Time_spent_minutes_day  \n",
       "0                1.466667  \n",
       "1                3.100000  \n",
       "2               36.750000  \n",
       "3               41.016667  \n",
       "4               45.333333  "
      ]
     },
     "execution_count": 22,
     "metadata": {},
     "output_type": "execute_result"
    }
   ],
   "source": [
    "df['Time_spent_minutes_day']=df.apply(Time_conversion,axis=1)\n",
    "\n",
    "df.drop(['Timestamp_x','Timestamp_y','date_time_x','date_time_y'],axis=1,inplace=True)\n",
    "df.head()"
   ]
  },
  {
   "cell_type": "code",
   "execution_count": 23,
   "metadata": {},
   "outputs": [
    {
     "data": {
      "text/plain": [
       "0                      20196\n",
       "6999042003656970156       31\n",
       "559346213618742389        22\n",
       "9050159186422090402       20\n",
       "1536590739380574003       20\n",
       "                       ...  \n",
       "8721108960309386090        1\n",
       "6550192714371123312        1\n",
       "8875479531064627858        1\n",
       "6605416823766117807        1\n",
       "1731797111331025079        1\n",
       "Name: UserID, Length: 41009, dtype: int64"
      ]
     },
     "execution_count": 23,
     "metadata": {},
     "output_type": "execute_result"
    }
   ],
   "source": [
    "df['UserID'].value_counts()"
   ]
  },
  {
   "cell_type": "code",
   "execution_count": 24,
   "metadata": {},
   "outputs": [],
   "source": [
    "# money spent by each user\n",
    "\n",
    "df_cart=df.groupby('UserID')['cart_value'].agg(['sum']).reindex(df['UserID']).reset_index()\n",
    "df_cart.drop_duplicates(inplace=True)\n",
    "df_cart.columns=['UserID','Total_cart_value']"
   ]
  },
  {
   "cell_type": "code",
   "execution_count": 25,
   "metadata": {},
   "outputs": [
    {
     "data": {
      "text/html": [
       "<div>\n",
       "<style scoped>\n",
       "    .dataframe tbody tr th:only-of-type {\n",
       "        vertical-align: middle;\n",
       "    }\n",
       "\n",
       "    .dataframe tbody tr th {\n",
       "        vertical-align: top;\n",
       "    }\n",
       "\n",
       "    .dataframe thead th {\n",
       "        text-align: right;\n",
       "    }\n",
       "</style>\n",
       "<table border=\"1\" class=\"dataframe\">\n",
       "  <thead>\n",
       "    <tr style=\"text-align: right;\">\n",
       "      <th></th>\n",
       "      <th>UserID</th>\n",
       "      <th>Total_cart_value</th>\n",
       "    </tr>\n",
       "  </thead>\n",
       "  <tbody>\n",
       "    <tr>\n",
       "      <th>0</th>\n",
       "      <td>0</td>\n",
       "      <td>1375049.52</td>\n",
       "    </tr>\n",
       "    <tr>\n",
       "      <th>547</th>\n",
       "      <td>5942997097932061</td>\n",
       "      <td>157.95</td>\n",
       "    </tr>\n",
       "    <tr>\n",
       "      <th>548</th>\n",
       "      <td>23951842225160889</td>\n",
       "      <td>60.96</td>\n",
       "    </tr>\n",
       "    <tr>\n",
       "      <th>550</th>\n",
       "      <td>30833658052409950</td>\n",
       "      <td>216.12</td>\n",
       "    </tr>\n",
       "    <tr>\n",
       "      <th>551</th>\n",
       "      <td>33873861847792934</td>\n",
       "      <td>53.24</td>\n",
       "    </tr>\n",
       "  </tbody>\n",
       "</table>\n",
       "</div>"
      ],
      "text/plain": [
       "                UserID  Total_cart_value\n",
       "0                    0        1375049.52\n",
       "547   5942997097932061            157.95\n",
       "548  23951842225160889             60.96\n",
       "550  30833658052409950            216.12\n",
       "551  33873861847792934             53.24"
      ]
     },
     "execution_count": 25,
     "metadata": {},
     "output_type": "execute_result"
    }
   ],
   "source": [
    "df_cart.head()"
   ]
  },
  {
   "cell_type": "code",
   "execution_count": 26,
   "metadata": {},
   "outputs": [
    {
     "data": {
      "text/html": [
       "<div>\n",
       "<style scoped>\n",
       "    .dataframe tbody tr th:only-of-type {\n",
       "        vertical-align: middle;\n",
       "    }\n",
       "\n",
       "    .dataframe tbody tr th {\n",
       "        vertical-align: top;\n",
       "    }\n",
       "\n",
       "    .dataframe thead th {\n",
       "        text-align: right;\n",
       "    }\n",
       "</style>\n",
       "<table border=\"1\" class=\"dataframe\">\n",
       "  <thead>\n",
       "    <tr style=\"text-align: right;\">\n",
       "      <th></th>\n",
       "      <th>UserID</th>\n",
       "      <th>Total_product_purchased</th>\n",
       "    </tr>\n",
       "  </thead>\n",
       "  <tbody>\n",
       "    <tr>\n",
       "      <th>0</th>\n",
       "      <td>0</td>\n",
       "      <td>20196</td>\n",
       "    </tr>\n",
       "    <tr>\n",
       "      <th>547</th>\n",
       "      <td>5942997097932061</td>\n",
       "      <td>1</td>\n",
       "    </tr>\n",
       "    <tr>\n",
       "      <th>548</th>\n",
       "      <td>23951842225160889</td>\n",
       "      <td>2</td>\n",
       "    </tr>\n",
       "    <tr>\n",
       "      <th>550</th>\n",
       "      <td>30833658052409950</td>\n",
       "      <td>5</td>\n",
       "    </tr>\n",
       "    <tr>\n",
       "      <th>551</th>\n",
       "      <td>33873861847792934</td>\n",
       "      <td>1</td>\n",
       "    </tr>\n",
       "  </tbody>\n",
       "</table>\n",
       "</div>"
      ],
      "text/plain": [
       "                UserID  Total_product_purchased\n",
       "0                    0                    20196\n",
       "547   5942997097932061                        1\n",
       "548  23951842225160889                        2\n",
       "550  30833658052409950                        5\n",
       "551  33873861847792934                        1"
      ]
     },
     "execution_count": 26,
     "metadata": {},
     "output_type": "execute_result"
    }
   ],
   "source": [
    "df_product=df.groupby('UserID')['products_purchased'].agg(['count']).reindex(df['UserID']).reset_index()\n",
    "df_product.drop_duplicates(inplace=True)\n",
    "df_product.columns=['UserID','Total_product_purchased']\n",
    "df_product.head()"
   ]
  },
  {
   "cell_type": "code",
   "execution_count": 27,
   "metadata": {},
   "outputs": [
    {
     "data": {
      "text/html": [
       "<div>\n",
       "<style scoped>\n",
       "    .dataframe tbody tr th:only-of-type {\n",
       "        vertical-align: middle;\n",
       "    }\n",
       "\n",
       "    .dataframe tbody tr th {\n",
       "        vertical-align: top;\n",
       "    }\n",
       "\n",
       "    .dataframe thead th {\n",
       "        text-align: right;\n",
       "    }\n",
       "</style>\n",
       "<table border=\"1\" class=\"dataframe\">\n",
       "  <thead>\n",
       "    <tr style=\"text-align: right;\">\n",
       "      <th></th>\n",
       "      <th>UserID</th>\n",
       "      <th>Total_time_spent</th>\n",
       "    </tr>\n",
       "  </thead>\n",
       "  <tbody>\n",
       "    <tr>\n",
       "      <th>0</th>\n",
       "      <td>0</td>\n",
       "      <td>11780975.983</td>\n",
       "    </tr>\n",
       "    <tr>\n",
       "      <th>547</th>\n",
       "      <td>5942997097932061</td>\n",
       "      <td>0.450</td>\n",
       "    </tr>\n",
       "    <tr>\n",
       "      <th>548</th>\n",
       "      <td>23951842225160889</td>\n",
       "      <td>52.067</td>\n",
       "    </tr>\n",
       "    <tr>\n",
       "      <th>550</th>\n",
       "      <td>30833658052409950</td>\n",
       "      <td>381.200</td>\n",
       "    </tr>\n",
       "    <tr>\n",
       "      <th>551</th>\n",
       "      <td>33873861847792934</td>\n",
       "      <td>10.067</td>\n",
       "    </tr>\n",
       "  </tbody>\n",
       "</table>\n",
       "</div>"
      ],
      "text/plain": [
       "                UserID  Total_time_spent\n",
       "0                    0      11780975.983\n",
       "547   5942997097932061             0.450\n",
       "548  23951842225160889            52.067\n",
       "550  30833658052409950           381.200\n",
       "551  33873861847792934            10.067"
      ]
     },
     "execution_count": 27,
     "metadata": {},
     "output_type": "execute_result"
    }
   ],
   "source": [
    "# total timestamp of userid\n",
    "df_cart_timestamp=df.groupby('UserID')['Time_spent_minutes_day'].agg(['sum']).reindex(df['UserID']).reset_index()\n",
    "df_cart_timestamp.drop_duplicates(inplace=True)\n",
    "\n",
    "\n",
    "pd.set_option('display.float_format', lambda x: '%.3f' % x)\n",
    "\n",
    "\n",
    "df_cart_timestamp.columns=['UserID','Total_time_spent']\n",
    "df_cart_timestamp.head()\n"
   ]
  },
  {
   "cell_type": "code",
   "execution_count": 28,
   "metadata": {},
   "outputs": [
    {
     "data": {
      "text/html": [
       "<div>\n",
       "<style scoped>\n",
       "    .dataframe tbody tr th:only-of-type {\n",
       "        vertical-align: middle;\n",
       "    }\n",
       "\n",
       "    .dataframe tbody tr th {\n",
       "        vertical-align: top;\n",
       "    }\n",
       "\n",
       "    .dataframe thead th {\n",
       "        text-align: right;\n",
       "    }\n",
       "</style>\n",
       "<table border=\"1\" class=\"dataframe\">\n",
       "  <thead>\n",
       "    <tr style=\"text-align: right;\">\n",
       "      <th></th>\n",
       "      <th>UserID</th>\n",
       "      <th>products_purchased</th>\n",
       "      <th>cart_value</th>\n",
       "      <th>Website_section_vsited</th>\n",
       "      <th>Time_spent_minutes_day</th>\n",
       "    </tr>\n",
       "  </thead>\n",
       "  <tbody>\n",
       "    <tr>\n",
       "      <th>0</th>\n",
       "      <td>0</td>\n",
       "      <td>H209597</td>\n",
       "      <td>31.500</td>\n",
       "      <td>product</td>\n",
       "      <td>1.467</td>\n",
       "    </tr>\n",
       "    <tr>\n",
       "      <th>1</th>\n",
       "      <td>0</td>\n",
       "      <td>H211370</td>\n",
       "      <td>30.480</td>\n",
       "      <td>product</td>\n",
       "      <td>3.100</td>\n",
       "    </tr>\n",
       "    <tr>\n",
       "      <th>2</th>\n",
       "      <td>0</td>\n",
       "      <td>A282331</td>\n",
       "      <td>51.000</td>\n",
       "      <td>default</td>\n",
       "      <td>36.750</td>\n",
       "    </tr>\n",
       "    <tr>\n",
       "      <th>3</th>\n",
       "      <td>0</td>\n",
       "      <td>H211410</td>\n",
       "      <td>16.740</td>\n",
       "      <td>product-listing-category</td>\n",
       "      <td>41.017</td>\n",
       "    </tr>\n",
       "    <tr>\n",
       "      <th>4</th>\n",
       "      <td>0</td>\n",
       "      <td>H211801</td>\n",
       "      <td>34.350</td>\n",
       "      <td>content</td>\n",
       "      <td>45.333</td>\n",
       "    </tr>\n",
       "  </tbody>\n",
       "</table>\n",
       "</div>"
      ],
      "text/plain": [
       "   UserID products_purchased  cart_value    Website_section_vsited  \\\n",
       "0       0            H209597      31.500                   product   \n",
       "1       0            H211370      30.480                   product   \n",
       "2       0            A282331      51.000                   default   \n",
       "3       0            H211410      16.740  product-listing-category   \n",
       "4       0            H211801      34.350                   content   \n",
       "\n",
       "   Time_spent_minutes_day  \n",
       "0                   1.467  \n",
       "1                   3.100  \n",
       "2                  36.750  \n",
       "3                  41.017  \n",
       "4                  45.333  "
      ]
     },
     "execution_count": 28,
     "metadata": {},
     "output_type": "execute_result"
    }
   ],
   "source": [
    "df.head()"
   ]
  },
  {
   "cell_type": "code",
   "execution_count": 29,
   "metadata": {},
   "outputs": [
    {
     "data": {
      "text/html": [
       "<div>\n",
       "<style scoped>\n",
       "    .dataframe tbody tr th:only-of-type {\n",
       "        vertical-align: middle;\n",
       "    }\n",
       "\n",
       "    .dataframe tbody tr th {\n",
       "        vertical-align: top;\n",
       "    }\n",
       "\n",
       "    .dataframe thead th {\n",
       "        text-align: right;\n",
       "    }\n",
       "</style>\n",
       "<table border=\"1\" class=\"dataframe\">\n",
       "  <thead>\n",
       "    <tr style=\"text-align: right;\">\n",
       "      <th></th>\n",
       "      <th>UserID</th>\n",
       "      <th>products_purchased</th>\n",
       "      <th>cart_value</th>\n",
       "      <th>Website_section_vsited</th>\n",
       "      <th>Time_spent_minutes_day</th>\n",
       "      <th>Total_cart_value</th>\n",
       "      <th>Total_product_purchased</th>\n",
       "      <th>Total_time_spent</th>\n",
       "      <th>No_of_times_visited</th>\n",
       "    </tr>\n",
       "  </thead>\n",
       "  <tbody>\n",
       "    <tr>\n",
       "      <th>0</th>\n",
       "      <td>0</td>\n",
       "      <td>H209597</td>\n",
       "      <td>31.500</td>\n",
       "      <td>product</td>\n",
       "      <td>1.467</td>\n",
       "      <td>1375049.520</td>\n",
       "      <td>20196</td>\n",
       "      <td>11780975.983</td>\n",
       "      <td>1407879</td>\n",
       "    </tr>\n",
       "    <tr>\n",
       "      <th>1</th>\n",
       "      <td>23951842225160889</td>\n",
       "      <td>H211370</td>\n",
       "      <td>33.480</td>\n",
       "      <td>product</td>\n",
       "      <td>26.033</td>\n",
       "      <td>60.960</td>\n",
       "      <td>2</td>\n",
       "      <td>52.067</td>\n",
       "      <td>8</td>\n",
       "    </tr>\n",
       "    <tr>\n",
       "      <th>2</th>\n",
       "      <td>30833658052409950</td>\n",
       "      <td>H211394</td>\n",
       "      <td>44.680</td>\n",
       "      <td>default</td>\n",
       "      <td>54.917</td>\n",
       "      <td>216.120</td>\n",
       "      <td>5</td>\n",
       "      <td>381.200</td>\n",
       "      <td>13</td>\n",
       "    </tr>\n",
       "    <tr>\n",
       "      <th>3</th>\n",
       "      <td>33873861847792934</td>\n",
       "      <td>H211800</td>\n",
       "      <td>53.240</td>\n",
       "      <td>content</td>\n",
       "      <td>10.067</td>\n",
       "      <td>53.240</td>\n",
       "      <td>1</td>\n",
       "      <td>10.067</td>\n",
       "      <td>5</td>\n",
       "    </tr>\n",
       "    <tr>\n",
       "      <th>4</th>\n",
       "      <td>42949238806579040</td>\n",
       "      <td>A286591</td>\n",
       "      <td>30.000</td>\n",
       "      <td>product</td>\n",
       "      <td>14.433</td>\n",
       "      <td>52.480</td>\n",
       "      <td>2</td>\n",
       "      <td>1424.217</td>\n",
       "      <td>20</td>\n",
       "    </tr>\n",
       "  </tbody>\n",
       "</table>\n",
       "</div>"
      ],
      "text/plain": [
       "              UserID products_purchased  cart_value Website_section_vsited  \\\n",
       "0                  0            H209597      31.500                product   \n",
       "1  23951842225160889            H211370      33.480                product   \n",
       "2  30833658052409950            H211394      44.680                default   \n",
       "3  33873861847792934            H211800      53.240                content   \n",
       "4  42949238806579040            A286591      30.000                product   \n",
       "\n",
       "   Time_spent_minutes_day  Total_cart_value  Total_product_purchased  \\\n",
       "0                   1.467       1375049.520                    20196   \n",
       "1                  26.033            60.960                        2   \n",
       "2                  54.917           216.120                        5   \n",
       "3                  10.067            53.240                        1   \n",
       "4                  14.433            52.480                        2   \n",
       "\n",
       "   Total_time_spent  No_of_times_visited  \n",
       "0      11780975.983              1407879  \n",
       "1            52.067                    8  \n",
       "2           381.200                   13  \n",
       "3            10.067                    5  \n",
       "4          1424.217                   20  "
      ]
     },
     "execution_count": 29,
     "metadata": {},
     "output_type": "execute_result"
    }
   ],
   "source": [
    "# merging all 4 dataset\n",
    "\n",
    "df.drop_duplicates(subset='UserID',keep='first',inplace=True)\n",
    "\n",
    "df=pd.merge(df,df_cart,on=['UserID'],how='inner',left_index=True,right_index=True)\n",
    "df=pd.merge(df,df_product,on=['UserID'],how='inner',left_index=True,right_index=True)\n",
    "df=pd.merge(df,df_cart_timestamp,on=['UserID'],how='inner',left_index=True,right_index=True)\n",
    "\n",
    "df=pd.merge(df,login_count,on=['UserID'],how='inner')\n",
    "\n",
    "df.head()"
   ]
  },
  {
   "cell_type": "code",
   "execution_count": 30,
   "metadata": {},
   "outputs": [],
   "source": [
    "df.drop(['UserID','products_purchased','cart_value','Website_section_vsited','Time_spent_minutes_day'],axis=1,inplace=True)"
   ]
  },
  {
   "cell_type": "code",
   "execution_count": 31,
   "metadata": {},
   "outputs": [
    {
     "data": {
      "text/html": [
       "<div>\n",
       "<style scoped>\n",
       "    .dataframe tbody tr th:only-of-type {\n",
       "        vertical-align: middle;\n",
       "    }\n",
       "\n",
       "    .dataframe tbody tr th {\n",
       "        vertical-align: top;\n",
       "    }\n",
       "\n",
       "    .dataframe thead th {\n",
       "        text-align: right;\n",
       "    }\n",
       "</style>\n",
       "<table border=\"1\" class=\"dataframe\">\n",
       "  <thead>\n",
       "    <tr style=\"text-align: right;\">\n",
       "      <th></th>\n",
       "      <th>Total_cart_value</th>\n",
       "      <th>Total_product_purchased</th>\n",
       "      <th>Total_time_spent</th>\n",
       "      <th>No_of_times_visited</th>\n",
       "    </tr>\n",
       "  </thead>\n",
       "  <tbody>\n",
       "    <tr>\n",
       "      <th>0</th>\n",
       "      <td>1375049.520</td>\n",
       "      <td>20196</td>\n",
       "      <td>11780975.983</td>\n",
       "      <td>1407879</td>\n",
       "    </tr>\n",
       "    <tr>\n",
       "      <th>1</th>\n",
       "      <td>60.960</td>\n",
       "      <td>2</td>\n",
       "      <td>52.067</td>\n",
       "      <td>8</td>\n",
       "    </tr>\n",
       "    <tr>\n",
       "      <th>2</th>\n",
       "      <td>216.120</td>\n",
       "      <td>5</td>\n",
       "      <td>381.200</td>\n",
       "      <td>13</td>\n",
       "    </tr>\n",
       "    <tr>\n",
       "      <th>3</th>\n",
       "      <td>53.240</td>\n",
       "      <td>1</td>\n",
       "      <td>10.067</td>\n",
       "      <td>5</td>\n",
       "    </tr>\n",
       "    <tr>\n",
       "      <th>4</th>\n",
       "      <td>52.480</td>\n",
       "      <td>2</td>\n",
       "      <td>1424.217</td>\n",
       "      <td>20</td>\n",
       "    </tr>\n",
       "  </tbody>\n",
       "</table>\n",
       "</div>"
      ],
      "text/plain": [
       "   Total_cart_value  Total_product_purchased  Total_time_spent  \\\n",
       "0       1375049.520                    20196      11780975.983   \n",
       "1            60.960                        2            52.067   \n",
       "2           216.120                        5           381.200   \n",
       "3            53.240                        1            10.067   \n",
       "4            52.480                        2          1424.217   \n",
       "\n",
       "   No_of_times_visited  \n",
       "0              1407879  \n",
       "1                    8  \n",
       "2                   13  \n",
       "3                    5  \n",
       "4                   20  "
      ]
     },
     "execution_count": 31,
     "metadata": {},
     "output_type": "execute_result"
    }
   ],
   "source": [
    "df.head()"
   ]
  },
  {
   "cell_type": "code",
   "execution_count": 32,
   "metadata": {},
   "outputs": [
    {
     "data": {
      "text/html": [
       "<div>\n",
       "<style scoped>\n",
       "    .dataframe tbody tr th:only-of-type {\n",
       "        vertical-align: middle;\n",
       "    }\n",
       "\n",
       "    .dataframe tbody tr th {\n",
       "        vertical-align: top;\n",
       "    }\n",
       "\n",
       "    .dataframe thead th {\n",
       "        text-align: right;\n",
       "    }\n",
       "</style>\n",
       "<table border=\"1\" class=\"dataframe\">\n",
       "  <thead>\n",
       "    <tr style=\"text-align: right;\">\n",
       "      <th></th>\n",
       "      <th>Total_cart_value</th>\n",
       "      <th>Total_product_purchased</th>\n",
       "      <th>Total_time_spent</th>\n",
       "      <th>No_of_times_visited</th>\n",
       "      <th>Buy_probability</th>\n",
       "    </tr>\n",
       "  </thead>\n",
       "  <tbody>\n",
       "    <tr>\n",
       "      <th>0</th>\n",
       "      <td>1375049.520</td>\n",
       "      <td>20196</td>\n",
       "      <td>11780975.983</td>\n",
       "      <td>1407879</td>\n",
       "      <td>0.014</td>\n",
       "    </tr>\n",
       "    <tr>\n",
       "      <th>1</th>\n",
       "      <td>60.960</td>\n",
       "      <td>2</td>\n",
       "      <td>52.067</td>\n",
       "      <td>8</td>\n",
       "      <td>0.250</td>\n",
       "    </tr>\n",
       "    <tr>\n",
       "      <th>2</th>\n",
       "      <td>216.120</td>\n",
       "      <td>5</td>\n",
       "      <td>381.200</td>\n",
       "      <td>13</td>\n",
       "      <td>0.385</td>\n",
       "    </tr>\n",
       "    <tr>\n",
       "      <th>3</th>\n",
       "      <td>53.240</td>\n",
       "      <td>1</td>\n",
       "      <td>10.067</td>\n",
       "      <td>5</td>\n",
       "      <td>0.200</td>\n",
       "    </tr>\n",
       "    <tr>\n",
       "      <th>4</th>\n",
       "      <td>52.480</td>\n",
       "      <td>2</td>\n",
       "      <td>1424.217</td>\n",
       "      <td>20</td>\n",
       "      <td>0.100</td>\n",
       "    </tr>\n",
       "  </tbody>\n",
       "</table>\n",
       "</div>"
      ],
      "text/plain": [
       "   Total_cart_value  Total_product_purchased  Total_time_spent  \\\n",
       "0       1375049.520                    20196      11780975.983   \n",
       "1            60.960                        2            52.067   \n",
       "2           216.120                        5           381.200   \n",
       "3            53.240                        1            10.067   \n",
       "4            52.480                        2          1424.217   \n",
       "\n",
       "   No_of_times_visited  Buy_probability  \n",
       "0              1407879            0.014  \n",
       "1                    8            0.250  \n",
       "2                   13            0.385  \n",
       "3                    5            0.200  \n",
       "4                   20            0.100  "
      ]
     },
     "execution_count": 32,
     "metadata": {},
     "output_type": "execute_result"
    }
   ],
   "source": [
    "# buy probability \n",
    "\n",
    "df['Buy_probability']=(df['Total_product_purchased']/df['No_of_times_visited'])\n",
    "df.head()"
   ]
  },
  {
   "cell_type": "code",
   "execution_count": 33,
   "metadata": {},
   "outputs": [
    {
     "data": {
      "text/html": [
       "<div>\n",
       "<style scoped>\n",
       "    .dataframe tbody tr th:only-of-type {\n",
       "        vertical-align: middle;\n",
       "    }\n",
       "\n",
       "    .dataframe tbody tr th {\n",
       "        vertical-align: top;\n",
       "    }\n",
       "\n",
       "    .dataframe thead th {\n",
       "        text-align: right;\n",
       "    }\n",
       "</style>\n",
       "<table border=\"1\" class=\"dataframe\">\n",
       "  <thead>\n",
       "    <tr style=\"text-align: right;\">\n",
       "      <th></th>\n",
       "      <th>Total_cart_value</th>\n",
       "      <th>Total_product_purchased</th>\n",
       "      <th>Total_time_spent</th>\n",
       "      <th>No_of_times_visited</th>\n",
       "      <th>Buy_probability</th>\n",
       "      <th>User_Score_Rank</th>\n",
       "    </tr>\n",
       "  </thead>\n",
       "  <tbody>\n",
       "    <tr>\n",
       "      <th>0</th>\n",
       "      <td>1375049.520</td>\n",
       "      <td>20196</td>\n",
       "      <td>11780975.983</td>\n",
       "      <td>1407879</td>\n",
       "      <td>0.014</td>\n",
       "      <td>19725.062</td>\n",
       "    </tr>\n",
       "    <tr>\n",
       "      <th>1</th>\n",
       "      <td>60.960</td>\n",
       "      <td>2</td>\n",
       "      <td>52.067</td>\n",
       "      <td>8</td>\n",
       "      <td>0.250</td>\n",
       "      <td>15.240</td>\n",
       "    </tr>\n",
       "    <tr>\n",
       "      <th>2</th>\n",
       "      <td>216.120</td>\n",
       "      <td>5</td>\n",
       "      <td>381.200</td>\n",
       "      <td>13</td>\n",
       "      <td>0.385</td>\n",
       "      <td>83.123</td>\n",
       "    </tr>\n",
       "    <tr>\n",
       "      <th>3</th>\n",
       "      <td>53.240</td>\n",
       "      <td>1</td>\n",
       "      <td>10.067</td>\n",
       "      <td>5</td>\n",
       "      <td>0.200</td>\n",
       "      <td>10.648</td>\n",
       "    </tr>\n",
       "    <tr>\n",
       "      <th>4</th>\n",
       "      <td>52.480</td>\n",
       "      <td>2</td>\n",
       "      <td>1424.217</td>\n",
       "      <td>20</td>\n",
       "      <td>0.100</td>\n",
       "      <td>5.248</td>\n",
       "    </tr>\n",
       "  </tbody>\n",
       "</table>\n",
       "</div>"
      ],
      "text/plain": [
       "   Total_cart_value  Total_product_purchased  Total_time_spent  \\\n",
       "0       1375049.520                    20196      11780975.983   \n",
       "1            60.960                        2            52.067   \n",
       "2           216.120                        5           381.200   \n",
       "3            53.240                        1            10.067   \n",
       "4            52.480                        2          1424.217   \n",
       "\n",
       "   No_of_times_visited  Buy_probability  User_Score_Rank  \n",
       "0              1407879            0.014        19725.062  \n",
       "1                    8            0.250           15.240  \n",
       "2                   13            0.385           83.123  \n",
       "3                    5            0.200           10.648  \n",
       "4                   20            0.100            5.248  "
      ]
     },
     "execution_count": 33,
     "metadata": {},
     "output_type": "execute_result"
    }
   ],
   "source": [
    "# user Rank Score\n",
    "df['User_Score_Rank']=(df['Buy_probability']*df['Total_cart_value'])\n",
    "\n",
    "df.head()"
   ]
  },
  {
   "cell_type": "code",
   "execution_count": 34,
   "metadata": {},
   "outputs": [
    {
     "data": {
      "text/html": [
       "<div>\n",
       "<style scoped>\n",
       "    .dataframe tbody tr th:only-of-type {\n",
       "        vertical-align: middle;\n",
       "    }\n",
       "\n",
       "    .dataframe tbody tr th {\n",
       "        vertical-align: top;\n",
       "    }\n",
       "\n",
       "    .dataframe thead th {\n",
       "        text-align: right;\n",
       "    }\n",
       "</style>\n",
       "<table border=\"1\" class=\"dataframe\">\n",
       "  <thead>\n",
       "    <tr style=\"text-align: right;\">\n",
       "      <th></th>\n",
       "      <th>Total_cart_value</th>\n",
       "      <th>Total_product_purchased</th>\n",
       "      <th>Total_time_spent</th>\n",
       "      <th>No_of_times_visited</th>\n",
       "      <th>Buy_probability</th>\n",
       "      <th>User_Score_Rank</th>\n",
       "    </tr>\n",
       "  </thead>\n",
       "  <tbody>\n",
       "    <tr>\n",
       "      <th>1</th>\n",
       "      <td>60.960</td>\n",
       "      <td>2</td>\n",
       "      <td>52.067</td>\n",
       "      <td>8</td>\n",
       "      <td>0.250</td>\n",
       "      <td>15.240</td>\n",
       "    </tr>\n",
       "    <tr>\n",
       "      <th>2</th>\n",
       "      <td>216.120</td>\n",
       "      <td>5</td>\n",
       "      <td>381.200</td>\n",
       "      <td>13</td>\n",
       "      <td>0.385</td>\n",
       "      <td>83.123</td>\n",
       "    </tr>\n",
       "    <tr>\n",
       "      <th>3</th>\n",
       "      <td>53.240</td>\n",
       "      <td>1</td>\n",
       "      <td>10.067</td>\n",
       "      <td>5</td>\n",
       "      <td>0.200</td>\n",
       "      <td>10.648</td>\n",
       "    </tr>\n",
       "    <tr>\n",
       "      <th>4</th>\n",
       "      <td>52.480</td>\n",
       "      <td>2</td>\n",
       "      <td>1424.217</td>\n",
       "      <td>20</td>\n",
       "      <td>0.100</td>\n",
       "      <td>5.248</td>\n",
       "    </tr>\n",
       "    <tr>\n",
       "      <th>5</th>\n",
       "      <td>111.980</td>\n",
       "      <td>2</td>\n",
       "      <td>80.583</td>\n",
       "      <td>18</td>\n",
       "      <td>0.111</td>\n",
       "      <td>12.442</td>\n",
       "    </tr>\n",
       "  </tbody>\n",
       "</table>\n",
       "</div>"
      ],
      "text/plain": [
       "   Total_cart_value  Total_product_purchased  Total_time_spent  \\\n",
       "1            60.960                        2            52.067   \n",
       "2           216.120                        5           381.200   \n",
       "3            53.240                        1            10.067   \n",
       "4            52.480                        2          1424.217   \n",
       "5           111.980                        2            80.583   \n",
       "\n",
       "   No_of_times_visited  Buy_probability  User_Score_Rank  \n",
       "1                    8            0.250           15.240  \n",
       "2                   13            0.385           83.123  \n",
       "3                    5            0.200           10.648  \n",
       "4                   20            0.100            5.248  \n",
       "5                   18            0.111           12.442  "
      ]
     },
     "execution_count": 34,
     "metadata": {},
     "output_type": "execute_result"
    }
   ],
   "source": [
    "# dropping first row\n",
    "\n",
    "df.drop(df.index[0],inplace=True)\n",
    "df.head()"
   ]
  },
  {
   "cell_type": "code",
   "execution_count": 35,
   "metadata": {},
   "outputs": [
    {
     "data": {
      "text/plain": [
       "Text(0.5, 1.0, 'Total time spent')"
      ]
     },
     "execution_count": 35,
     "metadata": {},
     "output_type": "execute_result"
    },
    {
     "data": {
      "image/png": "[encoded data removed]",
      "text/plain": [
       "<Figure size 360x360 with 1 Axes>"
      ]
     },
     "metadata": {
      "needs_background": "light"
     },
     "output_type": "display_data"
    }
   ],
   "source": [
    "sns.displot(df['Total_time_spent'],kde=False,bins=50)\n",
    "plt.title('Total time spent')"
   ]
  },
  {
   "cell_type": "code",
   "execution_count": 36,
   "metadata": {},
   "outputs": [
    {
     "name": "stdout",
     "output_type": "stream",
     "text": [
      "(32682, 5) (8171, 5)\n",
      "(32682,) (8171,)\n"
     ]
    }
   ],
   "source": [
    "from sklearn.model_selection import train_test_split\n",
    "from sklearn.preprocessing import StandardScaler\n",
    "\n",
    "X=df.drop(['User_Score_Rank'],axis=1)\n",
    "y=df.iloc[:,-1]\n",
    "round(y,2)\n",
    "   \n",
    "sc=StandardScaler()\n",
    "\n",
    "X=sc.fit_transform(X) # standardising the features as the data is highly skewed\n",
    "\n",
    "Xtrain,Xtest,ytrain,ytest=train_test_split(X,y,test_size=0.2,random_state=42)\n",
    "print(Xtrain.shape,Xtest.shape)\n",
    "print(ytrain.shape,ytest.shape)"
   ]
  },
  {
   "cell_type": "code",
   "execution_count": 37,
   "metadata": {},
   "outputs": [
    {
     "data": {
      "text/plain": [
       "count   40853.000\n",
       "mean       14.951\n",
       "std        43.690\n",
       "min         0.029\n",
       "25%         2.993\n",
       "50%         6.862\n",
       "75%        15.334\n",
       "max      4528.173\n",
       "Name: User_Score_Rank, dtype: float64"
      ]
     },
     "execution_count": 37,
     "metadata": {},
     "output_type": "execute_result"
    }
   ],
   "source": [
    "y.describe()"
   ]
  },
  {
   "cell_type": "code",
   "execution_count": 38,
   "metadata": {},
   "outputs": [
    {
     "name": "stdout",
     "output_type": "stream",
     "text": [
      "RMSE : 6.257601603324144\n",
      "MSE  : 39.15757782592489\n",
      "R2   : 0.9640547754128985\n"
     ]
    }
   ],
   "source": [
    "from xgboost import XGBRegressor\n",
    "from sklearn.metrics import mean_squared_error,r2_score\n",
    "from math import sqrt\n",
    "\n",
    "classifier=XGBRegressor(colsample_bytree=0.4,\n",
    "                        gamma=0,\n",
    "                       learning_rate=0.22,\n",
    "                       max_depth=3,\n",
    "                       min_child_weight=1.5,\n",
    "                       n_estimators=1000,\n",
    "                       reg_alpha=0.75,\n",
    "                       reg_lambda=0.45,\n",
    "                       subsample=0.6,\n",
    "                       seed=42)\n",
    "\n",
    "classifier.fit(Xtrain,ytrain)\n",
    "\n",
    "pred=classifier.predict(Xtest)\n",
    "\n",
    "print('RMSE :',sqrt(mean_squared_error(ytest,pred)))\n",
    "print('MSE  :',mean_squared_error(ytest,pred))\n",
    "print('R2   :',r2_score(ytest,pred))"
   ]
  },
  {
   "cell_type": "code",
   "execution_count": 39,
   "metadata": {},
   "outputs": [
    {
     "data": {
      "text/plain": [
       "array([[-0.22589168,  0.52482766, -0.99465308, -0.49769273,  0.67038749],\n",
       "       [ 0.62251926,  3.40820374, -0.61776486, -0.30260797,  1.53480718],\n",
       "       [-0.26810444, -0.4362977 , -1.04274698, -0.61474359,  0.34931732],\n",
       "       ...,\n",
       "       [ 0.01098098,  0.52482766,  2.14173716, -0.61474359,  1.63359801],\n",
       "       [-0.36521567, -0.4362977 ,  0.51881614, -0.30260797, -0.44100926],\n",
       "       [-0.06732041, -0.4362977 ,  0.49148659, -0.61474359,  0.34931732]])"
      ]
     },
     "execution_count": 39,
     "metadata": {},
     "output_type": "execute_result"
    }
   ],
   "source": [
    "X"
   ]
  },
  {
   "cell_type": "code",
   "execution_count": 40,
   "metadata": {},
   "outputs": [
    {
     "data": {
      "text/plain": [
       "1       15.240\n",
       "2       83.123\n",
       "3       10.648\n",
       "4        5.248\n",
       "5       12.442\n",
       "         ...  \n",
       "40849   19.340\n",
       "40850    3.884\n",
       "40851   41.712\n",
       "40852    2.729\n",
       "40853   17.992\n",
       "Name: User_Score_Rank, Length: 40853, dtype: float64"
      ]
     },
     "execution_count": 40,
     "metadata": {},
     "output_type": "execute_result"
    }
   ],
   "source": [
    "y"
   ]
  },
  {
   "cell_type": "code",
   "execution_count": 44,
   "metadata": {},
   "outputs": [
    {
     "name": "stdout",
     "output_type": "stream",
     "text": [
      "RMSE :  5.091124077021306\n",
      "MSE :  25.919544367626052\n",
      "R2 :  0.9762068060585498\n"
     ]
    }
   ],
   "source": [
    "from sklearn.ensemble import RandomForestRegressor\n",
    "classifier_rf=RandomForestRegressor()\n",
    "classifier_rf.fit(Xtrain,ytrain)\n",
    "\n",
    "#classifier_rf.fit(Xtrain,ytrain)\n",
    "pred=classifier_rf.predict(Xtest)\n",
    "\n",
    "print(\"RMSE : \",sqrt(mean_squared_error(ytest,pred)))\n",
    "print(\"MSE : \",mean_squared_error(ytest,pred))\n",
    "print(\"R2 : \",r2_score(ytest,pred))"
   ]
  },
  {
   "cell_type": "code",
   "execution_count": 46,
   "metadata": {},
   "outputs": [
    {
     "name": "stdout",
     "output_type": "stream",
     "text": [
      "Fitting 5 folds for each of 50 candidates, totalling 250 fits\n"
     ]
    },
    {
     "data": {
      "text/plain": [
       "RandomizedSearchCV(cv=5, estimator=RandomForestRegressor(), n_iter=50,\n",
       "                   n_jobs=-1,\n",
       "                   param_distributions={'bootstrap': [True, False],\n",
       "                                        'max_depth': [20, 40, 50, 60, 80],\n",
       "                                        'max_features': ['auto', 'sqrt'],\n",
       "                                        'min_samples_leaf': [1, 2, 3, 4, 5],\n",
       "                                        'min_samples_split': [2, 5, 10, 15, 20],\n",
       "                                        'n_estimators': [200, 300, 400, 500,\n",
       "                                                         600]},\n",
       "                   random_state=42, return_train_score=True,\n",
       "                   scoring='neg_mean_absolute_error', verbose=5)"
      ]
     },
     "execution_count": 46,
     "metadata": {},
     "output_type": "execute_result"
    }
   ],
   "source": [
    "from sklearn.model_selection import RandomizedSearchCV\n",
    "\n",
    "\n",
    "n_estimators = [200, 300, 400, 500, 600]\n",
    "max_features = ['auto', 'sqrt']\n",
    "max_depth = [20,40,50,60,80]\n",
    "min_samples_split = [2, 5, 10,15,20]\n",
    "min_samples_leaf = [1, 2, 3, 4, 5]\n",
    "bootstrap = [True, False]\n",
    "\n",
    "random_grid = {'n_estimators': n_estimators,\n",
    "               'max_features': max_features,\n",
    "               'max_depth': max_depth,\n",
    "               'min_samples_split': min_samples_split,\n",
    "               'min_samples_leaf': min_samples_leaf,\n",
    "               'bootstrap': bootstrap}\n",
    "\n",
    "random_cv2 = RandomizedSearchCV(estimator = RandomForestRegressor(), \n",
    "            param_distributions = random_grid, n_iter = 50,\n",
    "            scoring = 'neg_mean_absolute_error', cv = 5, \n",
    "            verbose=5, random_state=42, n_jobs = -1,return_train_score = True)\n",
    "\n",
    "random_cv2.fit(Xtrain,ytrain)"
   ]
  },
  {
   "cell_type": "code",
   "execution_count": null,
   "metadata": {},
   "outputs": [],
   "source": [
    "#from sklearn.model_selection import KFold, cross_validate,StratifiedKFold\n",
    "\n",
    "#kf = KFold(n_splits=5, shuffle=True)\n",
    "#skf= StratifiedKFold(n_splits=5, shuffle=True)\n",
    "\n",
    "#cv_results = cross_validate(classifier, X, y, cv=skf, scoring=\"accuracy\", return_train_score=True)\n",
    "#cv_results"
   ]
  },
  {
   "cell_type": "code",
   "execution_count": 47,
   "metadata": {},
   "outputs": [
    {
     "data": {
      "text/plain": [
       "{'n_estimators': 600,\n",
       " 'min_samples_split': 5,\n",
       " 'min_samples_leaf': 2,\n",
       " 'max_features': 'auto',\n",
       " 'max_depth': 80,\n",
       " 'bootstrap': True}"
      ]
     },
     "execution_count": 47,
     "metadata": {},
     "output_type": "execute_result"
    }
   ],
   "source": [
    "random_cv2.best_params_"
   ]
  },
  {
   "cell_type": "code",
   "execution_count": 48,
   "metadata": {},
   "outputs": [
    {
     "name": "stdout",
     "output_type": "stream",
     "text": [
      "RMSE :  5.254276170867517\n",
      "MSE :  27.607418079746218\n",
      "R2 :  0.9746573997105235\n"
     ]
    }
   ],
   "source": [
    "classifier=RandomForestRegressor(**random_cv2.best_params_)\n",
    "classifier.fit(Xtrain,ytrain)\n",
    "\n",
    "pred=classifier.predict(Xtest)\n",
    "\n",
    "print(\"RMSE : \",sqrt(mean_squared_error(ytest,pred)))\n",
    "print(\"MSE : \",mean_squared_error(ytest,pred))\n",
    "print(\"R2 : \",r2_score(ytest,pred))"
   ]
  },
  {
   "cell_type": "code",
   "execution_count": 49,
   "metadata": {},
   "outputs": [
    {
     "data": {
      "image/png": "[encoded data removed]",
      "text/plain": [
       "<Figure size 432x288 with 1 Axes>"
      ]
     },
     "metadata": {
      "needs_background": "light"
     },
     "output_type": "display_data"
    }
   ],
   "source": [
    "imp = pd.Series(data=classifier.feature_importances_, index=['Total_cart_value', 'Total_Products_Purchased', \n",
    "                                                             'Total_Time_Spent','No_of_times_visited', \n",
    "                                                             'Buy_probability']).sort_values(ascending=False)\n",
    "plt.title(\"Feature importance\")\n",
    "ax = sns.barplot(y=imp.index, x=imp.values, orient='h')"
   ]
  },
  {
   "cell_type": "code",
   "execution_count": null,
   "metadata": {},
   "outputs": [],
   "source": []
  }
 ],
 "metadata": {
  "kernelspec": {
   "display_name": "Python 3",
   "language": "python",
   "name": "python3"
  },
  "language_info": {
   "codemirror_mode": {
    "name": "ipython",
    "version": 3
   },
   "file_extension": ".py",
   "mimetype": "text/x-python",
   "name": "python",
   "nbconvert_exporter": "python",
   "pygments_lexer": "ipython3",
   "version": "3.8.5"
  }
 },
 "nbformat": 4,
 "nbformat_minor": 4
}
